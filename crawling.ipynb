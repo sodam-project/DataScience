{
 "cells": [
  {
   "cell_type": "markdown",
   "id": "ee7576c1",
   "metadata": {
    "toc": true
   },
   "source": [
    "<h1>Table of Contents<span class=\"tocSkip\"></span></h1>\n",
    "<div class=\"toc\"><ul class=\"toc-item\"><li><span><a href=\"#동적-크롤링을-통한-로그인\" data-toc-modified-id=\"동적-크롤링을-통한-로그인-1\"><span class=\"toc-item-num\">1&nbsp;&nbsp;</span>동적 크롤링을 통한 로그인</a></span></li><li><span><a href=\"#크롤링\" data-toc-modified-id=\"크롤링-2\"><span class=\"toc-item-num\">2&nbsp;&nbsp;</span>크롤링</a></span><ul class=\"toc-item\"><li><span><a href=\"#id,-제목,-추천수,-날짜,-조회수\" data-toc-modified-id=\"id,-제목,-추천수,-날짜,-조회수-2.1\"><span class=\"toc-item-num\">2.1&nbsp;&nbsp;</span>id, 제목, 추천수, 날짜, 조회수</a></span></li><li><span><a href=\"#META-DATA-TEST\" data-toc-modified-id=\"META-DATA-TEST-2.2\"><span class=\"toc-item-num\">2.2&nbsp;&nbsp;</span>META DATA TEST</a></span></li><li><span><a href=\"#게시물-+-댓글\" data-toc-modified-id=\"게시물-+-댓글-2.3\"><span class=\"toc-item-num\">2.3&nbsp;&nbsp;</span>게시물 + 댓글</a></span><ul class=\"toc-item\"><li><span><a href=\"#CONTENTS-COMMENTS-TEST\" data-toc-modified-id=\"CONTENTS-COMMENTS-TEST-2.3.1\"><span class=\"toc-item-num\">2.3.1&nbsp;&nbsp;</span>CONTENTS COMMENTS TEST</a></span></li></ul></li></ul></li></ul></div>"
   ]
  },
  {
   "cell_type": "markdown",
   "id": "7983ab16",
   "metadata": {},
   "source": [
    "## 동적 크롤링을 통한 로그인"
   ]
  },
  {
   "cell_type": "code",
   "execution_count": 47,
   "id": "5c7cf864",
   "metadata": {},
   "outputs": [],
   "source": [
    "from selenium import webdriver\n",
    "from selenium.webdriver.common.by import By\n",
    "from selenium.webdriver.support.ui import WebDriverWait\n",
    "from selenium.webdriver.support import expected_conditions as EC\n",
    "from selenium.webdriver.support.ui import Select\n",
    "from bs4 import BeautifulSoup\n",
    "import time\n",
    "import pandas as pd\n",
    "from datetime import datetime"
   ]
  },
  {
   "cell_type": "code",
   "execution_count": 48,
   "id": "3cbc18cf",
   "metadata": {},
   "outputs": [],
   "source": [
    "def login():\n",
    "    # Chrome WebDriver 초기화\n",
    "    try:\n",
    "        driver = webdriver.Chrome()\n",
    "\n",
    "        # 웹페이지로 이동\n",
    "        driver.get('http://www.ssodam.com')\n",
    "\n",
    "            # '닫기' 버튼을 찾기 위해 data-dismiss 속성을 이용\n",
    "        close_button = WebDriverWait(driver, 10).until(\n",
    "            EC.element_to_be_clickable((By.CSS_SELECTOR, 'button[data-dismiss=\"modal\"]'))\n",
    "        )\n",
    "        close_button.click()\n",
    "\n",
    "        # \"로그인\" 링크를 찾아 클릭\n",
    "        login_link = WebDriverWait(driver, 10).until(\n",
    "            EC.element_to_be_clickable((By.PARTIAL_LINK_TEXT, '로그인'))\n",
    "        )\n",
    "        login_link.click()\n",
    "\n",
    "        # 아이디 입력\n",
    "        id_input = WebDriverWait(driver, 10).until(\n",
    "            EC.element_to_be_clickable((By.NAME, 'id'))\n",
    "        )\n",
    "        id_input.send_keys('kun0107')  # 본인 아이디 입력\n",
    "        id_input.click()\n",
    "\n",
    "\n",
    "        pass_input = WebDriverWait(driver, 10).until(\n",
    "            EC.element_to_be_clickable((By.NAME, 'pass'))\n",
    "        )\n",
    "        pass_input.click()\n",
    "        pass_input.send_keys('Dlrjsghk12@@')\n",
    "\n",
    "        # 로그인 버튼 클릭\n",
    "        login_button = WebDriverWait(driver, 10).until(\n",
    "            EC.element_to_be_clickable((By.XPATH, '//input[@type=\"submit\" and @value=\"로그인\"]'))\n",
    "        )\n",
    "        login_button.click()\n",
    "\n",
    "    except Exception as e:\n",
    "        print(\"로그인 실패\")\n",
    "        print(e)\n",
    "        return NULL\n",
    "    return driver"
   ]
  },
  {
   "cell_type": "markdown",
   "id": "5eb46bf3",
   "metadata": {},
   "source": [
    "## 크롤링"
   ]
  },
  {
   "cell_type": "markdown",
   "id": "663cf4c9",
   "metadata": {},
   "source": [
    "### meta data"
   ]
  },
  {
   "cell_type": "code",
   "execution_count": 49,
   "id": "f8279dae",
   "metadata": {},
   "outputs": [],
   "source": [
    "def get_ids(soup):\n",
    "    ids = []\n",
    "    try:\n",
    "        td_tags = soup.find_all('td', class_='mobile-hide')\n",
    "    except:\n",
    "        td_tags = None\n",
    "    for i in range(1, min(21, len(td_tags))):\n",
    "        try:\n",
    "            td_tag = td_tags[i]\n",
    "            id_text = td_tag.find('center').text \n",
    "            id = int(id_text)\n",
    "        except:\n",
    "            td_tag = None\n",
    "            id = None\n",
    "        ids.append(id)\n",
    "\n",
    "    return ids"
   ]
  },
  {
   "cell_type": "code",
   "execution_count": 50,
   "id": "ac4fa8dc",
   "metadata": {},
   "outputs": [],
   "source": [
    "def get_titles(soup):\n",
    "    titles = []\n",
    "    try:\n",
    "        title_tags = soup.find_all('span', class_='content-title')\n",
    "    except:\n",
    "        title_tags = None\n",
    "    for i in range(min(20, len(title_tags))):\n",
    "        try:\n",
    "            title = title_tags[i].text.strip()\n",
    "        except:\n",
    "            title = None\n",
    "        titles.append(title)\n",
    "    return titles"
   ]
  },
  {
   "cell_type": "code",
   "execution_count": 51,
   "id": "3f8963be",
   "metadata": {},
   "outputs": [],
   "source": [
    "def get_etc(soup):\n",
    "    try:\n",
    "        values = soup.find_all('td', style='text-align:center;')\n",
    "    except:\n",
    "        values = None\n",
    "    likes = []\n",
    "    views = []\n",
    "    for i in range(4, min(84, len(values)), 4):\n",
    "        try:\n",
    "            like = int(values[i + 1].text.strip())\n",
    "        except:\n",
    "            like = None\n",
    "        try:\n",
    "            view = int(values[i + 3].text.strip())\n",
    "        except:\n",
    "            view = None\n",
    "        likes.append(like)\n",
    "        views.append(view)\n",
    "    return likes, views"
   ]
  },
  {
   "cell_type": "markdown",
   "id": "92887f1f",
   "metadata": {},
   "source": [
    "#### handler"
   ]
  },
  {
   "cell_type": "code",
   "execution_count": 52,
   "id": "bdc24b98",
   "metadata": {},
   "outputs": [],
   "source": [
    "def metadata_handler(driver, big_kw, max_page, type):\n",
    "    meta_data = {\n",
    "        \"id\": [],\n",
    "        \"title\": [],\n",
    "        \"likes\": [],\n",
    "        \"views\": [],\n",
    "    }\n",
    "    for i in range(1, max_page + 1):\n",
    "        url = 'https://www.ssodam.com/all/' + str(i) + '?field=' + type + '&q=' + big_kw\n",
    "        driver.get(url)\n",
    "        time.sleep(1)\n",
    "        soup = BeautifulSoup(driver.page_source, 'html.parser')\n",
    "        ids = get_ids(soup)\n",
    "        titles = get_titles(soup)\n",
    "        likes, views = get_etc(soup)\n",
    "        meta_data[\"id\"].extend(ids)\n",
    "        meta_data[\"title\"].extend(titles)\n",
    "        meta_data[\"likes\"].extend(likes)\n",
    "        meta_data[\"views\"].extend(views)\n",
    "    return meta_data\n",
    "        "
   ]
  },
  {
   "cell_type": "markdown",
   "id": "ead07d14",
   "metadata": {},
   "source": [
    "##### meta data test for handler"
   ]
  },
  {
   "cell_type": "code",
   "execution_count": 53,
   "id": "68277c27",
   "metadata": {},
   "outputs": [],
   "source": [
    "# driver = login()\n",
    "# url = 'https://www.ssodam.com/all/1?field=content&q=남사친'\n",
    "# time.sleep(1)\n",
    "# driver.get(url)\n",
    "# soup = BeautifulSoup(driver.page_source, 'html.parser')\n",
    "# meta_data = {\n",
    "#     \"id\": [],\n",
    "#     \"title\": [],\n",
    "#     \"likes\": [],\n",
    "#     \"views\": [],\n",
    "# }\n",
    "# ids = get_ids(soup)\n",
    "# titles = get_titles(soup)\n",
    "# likes, views = get_etc(soup)\n",
    "# meta_data[\"id\"].extend(ids)\n",
    "# meta_data[\"title\"].extend(titles)\n",
    "# meta_data[\"likes\"].extend(likes)\n",
    "# meta_data[\"views\"].extend(views)\n",
    "# pd.DataFrame(meta_data)"
   ]
  },
  {
   "cell_type": "markdown",
   "id": "ebddedcc",
   "metadata": {},
   "source": [
    "### contents comments"
   ]
  },
  {
   "cell_type": "code",
   "execution_count": 54,
   "id": "5453b68a",
   "metadata": {},
   "outputs": [],
   "source": [
    "def get_contents_comments(soup):\n",
    "    \n",
    "    # 게시물 내용\n",
    "    try:\n",
    "        contents = soup.select('.board-content.word-break')[0].text.strip()\n",
    "    except:\n",
    "        contents = None\n",
    "    comments_list = []\n",
    "\n",
    "    # 게시물 댓글\n",
    "    try:\n",
    "        comments = soup.select('.word-break.comment-content')\n",
    "    except:\n",
    "        comments = None\n",
    "    for comment in comments :\n",
    "        try:\n",
    "            comment_text = comment.text.strip()\n",
    "        except:\n",
    "            comment_text = None\n",
    "        comments_list.append(comment_text)\n",
    "    try:\n",
    "        comments_num_str = soup.select('.comment-number')[0].text\n",
    "    except:\n",
    "        comments_num_str = None\n",
    "    comments_num = int(''.join(filter(str.isdigit, comments_num_str)))\n",
    "    try:\n",
    "        date_text = soup.find('div', class_='board-date').text.strip()\n",
    "    except:\n",
    "        date = None\n",
    "    date = datetime.strptime(date_text, '%Y/%m/%d %H:%M')\n",
    "\n",
    "    return contents, comments_list, comments_num, date"
   ]
  },
  {
   "cell_type": "markdown",
   "id": "d846c9e1",
   "metadata": {},
   "source": [
    "#### handler"
   ]
  },
  {
   "cell_type": "code",
   "execution_count": 55,
   "id": "43fbf8e3",
   "metadata": {},
   "outputs": [],
   "source": [
    "def contents_handler(driver, ids):\n",
    "    contents_data = {\n",
    "        \"id\" : [],\n",
    "        \"contents\": [],\n",
    "        \"comments\" : [],\n",
    "        \"comments_num\" : [],\n",
    "        \"date\" : []\n",
    "    }    \n",
    "    for ID in ids:\n",
    "        url = 'https://www.ssodam.com/content/' + str(ID)\n",
    "        driver.get(url)\n",
    "        time.sleep(1)\n",
    "        soup = BeautifulSoup(driver.page_source, 'html.parser')\n",
    "        contents, comments_list, comments_num, date = get_contents_comments(soup)\n",
    "        contents_data[\"id\"].append(ID)\n",
    "        contents_data[\"contents\"].append(contents)\n",
    "        contents_data[\"comments_num\"].append(comments_num)\n",
    "        contents_data[\"comments\"].append(comments_list)\n",
    "        contents_data[\"date\"].append(date)\n",
    "    contents_df = pd.DataFrame(contents_data)     \n",
    "    return contents_df\n",
    "\n",
    "        "
   ]
  },
  {
   "cell_type": "markdown",
   "id": "b1ccd4cf",
   "metadata": {},
   "source": [
    "##### test for comments contents handler"
   ]
  },
  {
   "cell_type": "code",
   "execution_count": 56,
   "id": "c2ba354c",
   "metadata": {},
   "outputs": [],
   "source": [
    "# driver = login()\n",
    "# url = 'https://www.ssodam.com/content/1645555'\n",
    "# time.sleep(0.2)\n",
    "# driver.get(url)\n",
    "# soup = BeautifulSoup(driver.page_source, 'html.parser')\n",
    "# contents, comments_list, comments_num, date = get_contents_comments(soup)\n",
    "# contents_data = {\n",
    "#     \"id\" : [],\n",
    "#     \"contents\": [],\n",
    "#     \"comments\" : [],\n",
    "#     \"comments_num\" : [],\n",
    "#     \"date\" : []\n",
    "# }\n",
    "# contents_data[\"id\"].append(1645555)\n",
    "# contents_data[\"contents\"].append(contents)\n",
    "# contents_data[\"comments_num\"].append(comments_num)\n",
    "# contents_data[\"comments\"].append(comments_list)\n",
    "# contents_data[\"date\"].append(date)\n",
    "# contents_df = pd.DataFrame(contents_data)     \n"
   ]
  },
  {
   "cell_type": "markdown",
   "id": "8911f694",
   "metadata": {},
   "source": [
    "## Main"
   ]
  },
  {
   "cell_type": "markdown",
   "id": "1980268e",
   "metadata": {},
   "source": [
    "### login"
   ]
  },
  {
   "cell_type": "code",
   "execution_count": 66,
   "id": "c866d3e8",
   "metadata": {},
   "outputs": [],
   "source": [
    "driver = login()"
   ]
  },
  {
   "cell_type": "markdown",
   "id": "2fdf4b4d",
   "metadata": {},
   "source": [
    "### crawl all"
   ]
  },
  {
   "cell_type": "code",
   "execution_count": 73,
   "id": "595406aa",
   "metadata": {},
   "outputs": [],
   "source": [
    "big_kws = ['남사친', \"여사친\", '19)', '이상형', \"기념일\", \"소개팅\", \"썸\"]\n",
    "max_pages = [30, 30, 30, 30, 26, 50, 50, 50]"
   ]
  },
  {
   "cell_type": "code",
   "execution_count": 74,
   "id": "4d978854",
   "metadata": {},
   "outputs": [],
   "source": [
    "def ssodam_crawler(big_kw, search_type, max_page):\n",
    "    meta_data = metadata_handler(driver, big_kw, max_page, search_type)\n",
    "    meta_df = pd.DataFrame(meta_data)\n",
    "    meta_df.to_csv(f\"./data/{big_kw}_metadata.csv\", encoding='utf-8-sig')\n",
    "    ids = meta_df[meta_df['views'] > 2000]['id']\n",
    "    contents_df= contents_handler(driver, ids)\n",
    "    contents_df.to_csv(f\"./data/{big_kw}_contents.csv\", encoding='utf-8-sig')"
   ]
  },
  {
   "cell_type": "code",
   "execution_count": 75,
   "id": "aa1d80d1",
   "metadata": {},
   "outputs": [],
   "source": [
    "for i in range(4, 7):\n",
    "    big_kw = big_kws[i]\n",
    "    max_page = max_pages[i]\n",
    "    search_type = \"content\"\n",
    "    if big_kw == '19)':\n",
    "        search_type = \"title\"\n",
    "    ssodam_crawler(big_kw, search_type, max_page)"
   ]
  },
  {
   "cell_type": "markdown",
   "id": "e60ae063",
   "metadata": {},
   "source": [
    "### Test"
   ]
  },
  {
   "cell_type": "code",
   "execution_count": null,
   "id": "5216744b",
   "metadata": {},
   "outputs": [],
   "source": [
    "# meta_data = metadata_handler(driver, '19)', 20)\n",
    "# meta_df = pd.DataFrame(meta_data)\n",
    "# meta_df.to_csv(\"./19_metadata.csv\", encoding='utf-8-sig')\n",
    "# ids = meta_df[meta_df['views'] > 2000]['id']\n",
    "# contents_df= contents_handler(driver, ids)\n",
    "# contents_df.to_csv(\"./19_contents.csv\", encoding='utf-8-sig')"
   ]
  },
  {
   "cell_type": "code",
   "execution_count": null,
   "id": "26b636d6",
   "metadata": {},
   "outputs": [],
   "source": []
  }
 ],
 "metadata": {
  "kernelspec": {
   "display_name": "Python 3 (ipykernel)",
   "language": "python",
   "name": "python3"
  },
  "language_info": {
   "codemirror_mode": {
    "name": "ipython",
    "version": 3
   },
   "file_extension": ".py",
   "mimetype": "text/x-python",
   "name": "python",
   "nbconvert_exporter": "python",
   "pygments_lexer": "ipython3",
   "version": "3.11.4"
  },
  "toc": {
   "base_numbering": 1,
   "nav_menu": {},
   "number_sections": true,
   "sideBar": true,
   "skip_h1_title": true,
   "title_cell": "Table of Contents",
   "title_sidebar": "Contents",
   "toc_cell": true,
   "toc_position": {},
   "toc_section_display": true,
   "toc_window_display": true
  }
 },
 "nbformat": 4,
 "nbformat_minor": 5
}
