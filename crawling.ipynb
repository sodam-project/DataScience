{
 "cells": [
  {
   "cell_type": "markdown",
   "id": "ee7576c1",
   "metadata": {
    "toc": true
   },
   "source": [
    "<h1>Table of Contents<span class=\"tocSkip\"></span></h1>\n",
    "<div class=\"toc\"><ul class=\"toc-item\"><li><span><a href=\"#동적-크롤링을-통한-로그인\" data-toc-modified-id=\"동적-크롤링을-통한-로그인-1\"><span class=\"toc-item-num\">1&nbsp;&nbsp;</span>동적 크롤링을 통한 로그인</a></span></li><li><span><a href=\"#크롤링\" data-toc-modified-id=\"크롤링-2\"><span class=\"toc-item-num\">2&nbsp;&nbsp;</span>크롤링</a></span><ul class=\"toc-item\"><li><span><a href=\"#id,-제목,-추천수,-날짜,-조회수\" data-toc-modified-id=\"id,-제목,-추천수,-날짜,-조회수-2.1\"><span class=\"toc-item-num\">2.1&nbsp;&nbsp;</span>id, 제목, 추천수, 날짜, 조회수</a></span></li></ul></li></ul></div>"
   ]
  },
  {
   "cell_type": "markdown",
   "id": "7983ab16",
   "metadata": {},
   "source": [
    "## 동적 크롤링을 통한 로그인"
   ]
  },
  {
   "cell_type": "code",
   "execution_count": 80,
   "id": "5c7cf864",
   "metadata": {},
   "outputs": [],
   "source": [
    "from selenium import webdriver\n",
    "from selenium.webdriver.common.by import By\n",
    "from selenium.webdriver.support.ui import WebDriverWait\n",
    "from selenium.webdriver.support import expected_conditions as EC\n",
    "from selenium.webdriver.support.ui import Select"
   ]
  },
  {
   "cell_type": "code",
   "execution_count": 81,
   "id": "3cbc18cf",
   "metadata": {},
   "outputs": [],
   "source": [
    "def login():\n",
    "    # Chrome WebDriver 초기화\n",
    "    try:\n",
    "        driver = webdriver.Chrome()\n",
    "\n",
    "        # 웹페이지로 이동\n",
    "        driver.get('http://www.ssodam.com')\n",
    "\n",
    "            # '닫기' 버튼을 찾기 위해 data-dismiss 속성을 이용\n",
    "        close_button = WebDriverWait(driver, 10).until(\n",
    "            EC.element_to_be_clickable((By.CSS_SELECTOR, 'button[data-dismiss=\"modal\"]'))\n",
    "        )\n",
    "        close_button.click()\n",
    "\n",
    "        # \"로그인\" 링크를 찾아 클릭\n",
    "        login_link = WebDriverWait(driver, 10).until(\n",
    "            EC.element_to_be_clickable((By.PARTIAL_LINK_TEXT, '로그인'))\n",
    "        )\n",
    "        login_link.click()\n",
    "\n",
    "        # 아이디 입력\n",
    "        id_input = WebDriverWait(driver, 10).until(\n",
    "            EC.element_to_be_clickable((By.NAME, 'id'))\n",
    "        )\n",
    "        id_input.send_keys('kun0107')  # 본인 아이디 입력\n",
    "        id_input.click()\n",
    "\n",
    "\n",
    "        pass_input = WebDriverWait(driver, 10).until(\n",
    "            EC.element_to_be_clickable((By.NAME, 'pass'))\n",
    "        )\n",
    "        pass_input.click()\n",
    "        pass_input.send_keys('Dlrjsghk12@@')\n",
    "\n",
    "        # 로그인 버튼 클릭\n",
    "        login_button = WebDriverWait(driver, 10).until(\n",
    "            EC.element_to_be_clickable((By.XPATH, '//input[@type=\"submit\" and @value=\"로그인\"]'))\n",
    "        )\n",
    "        login_button.click()\n",
    "\n",
    "    except Exception as e:\n",
    "        print(\"로그인 실패\")\n",
    "        print(e)\n",
    "        return NULL\n",
    "    return driver"
   ]
  },
  {
   "cell_type": "markdown",
   "id": "5eb46bf3",
   "metadata": {},
   "source": [
    "## 크롤링"
   ]
  },
  {
   "cell_type": "markdown",
   "id": "663cf4c9",
   "metadata": {},
   "source": [
    "### id, 제목, 추천수, 날짜, 조회수"
   ]
  },
  {
   "cell_type": "code",
   "execution_count": null,
   "id": "d0d9995a",
   "metadata": {},
   "outputs": [],
   "source": [
    "def get_posts_metadata(soup):\n"
   ]
  },
  {
   "cell_type": "code",
   "execution_count": 116,
   "id": "2bb9f6d9",
   "metadata": {},
   "outputs": [],
   "source": [
    "def ssodam_crawler(driver, big_kw, max_page):\n",
    "\n",
    "    try:\n",
    "        max_page = 1\n",
    "        for i in range(1, max_page + 1):\n",
    "            url = 'https://www.ssodam.com/all/' + str(i) + '?field=content&q=' + big_kw\n",
    "            driver.get(url)\n",
    "            soup = BeautifulSoup(driver.page_source, 'html.parser')\n",
    "            data = get_posts_metadata(soup)\n",
    "        \n",
    "    except Exception as e:\n",
    "        print(\"검색 searcing 실패\")\n",
    "        print(e)"
   ]
  },
  {
   "cell_type": "code",
   "execution_count": 119,
   "id": "c3fe1236",
   "metadata": {},
   "outputs": [],
   "source": [
    "driver = login()"
   ]
  },
  {
   "cell_type": "code",
   "execution_count": 120,
   "id": "f08d8b53",
   "metadata": {},
   "outputs": [],
   "source": [
    "ssodam = ssodam_crawler(driver, '남사친', 32)"
   ]
  },
  {
   "cell_type": "code",
   "execution_count": null,
   "id": "6f25c0e0",
   "metadata": {},
   "outputs": [],
   "source": []
  },
  {
   "cell_type": "code",
   "execution_count": null,
   "id": "8de24ffe",
   "metadata": {},
   "outputs": [],
   "source": []
  }
 ],
 "metadata": {
  "kernelspec": {
   "display_name": "Python 3 (ipykernel)",
   "language": "python",
   "name": "python3"
  },
  "language_info": {
   "codemirror_mode": {
    "name": "ipython",
    "version": 3
   },
   "file_extension": ".py",
   "mimetype": "text/x-python",
   "name": "python",
   "nbconvert_exporter": "python",
   "pygments_lexer": "ipython3",
   "version": "3.11.5"
  },
  "toc": {
   "base_numbering": 1,
   "nav_menu": {},
   "number_sections": true,
   "sideBar": true,
   "skip_h1_title": true,
   "title_cell": "Table of Contents",
   "title_sidebar": "Contents",
   "toc_cell": true,
   "toc_position": {},
   "toc_section_display": true,
   "toc_window_display": true
  }
 },
 "nbformat": 4,
 "nbformat_minor": 5
}
